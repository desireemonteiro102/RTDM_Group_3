{
 "cells": [
  {
   "cell_type": "markdown",
   "metadata": {},
   "source": [
    "### Dataset\n",
    "Source: https://www.kaggle.com/datasets/cdc/behavioral-risk-factor-surveillance-system"
   ]
  },
  {
   "cell_type": "code",
   "execution_count": 1,
   "metadata": {},
   "outputs": [],
   "source": [
    "dataset_path = './datasets/'"
   ]
  },
  {
   "cell_type": "code",
   "execution_count": 2,
   "metadata": {},
   "outputs": [],
   "source": [
    "import pandas as pd\n",
    "\n",
    "# Load the dataset\n",
    "df_2015 = pd.read_csv(dataset_path + '2015.csv')\n",
    "\n",
    "# Display the first few rows of the dataset\n",
    "df_2015.head()\n",
    "df_2015_copy = df_2015.copy()"
   ]
  },
  {
   "cell_type": "markdown",
   "metadata": {},
   "source": [
    "# Selection of Possible risk factors for diabetes\n",
    "### Sources:\n",
    "- https://diabetesjournals.org/care/article/28/7/1599/27992/Obesity-Inactivity-and-the-Prevalence-of-Diabetes\n",
    "- https://link.springer.com/content/pdf/10.1007/s001250100648.pdf\n",
    "- https://www.ncbi.nlm.nih.gov/pmc/articles/PMC1635590/pdf/bmj-333-7576-prac-01009.pdf\n",
    "- https://www.cdc.gov/pcd/issues/2019/pdf/19_0109.pdf\n",
    "\n",
    "### Risk factors:\n",
    "- blood pressure\n",
    "- cholesterol\n",
    "- smoking\n",
    "- diabetes\n",
    "- obesity\n",
    "- age\n",
    "- sex\n",
    "- race\n",
    "- diet\n",
    "- exercise\n",
    "- alcohol consumption\n",
    "- BMI\n",
    "- household Income\n",
    "- marital Status\n",
    "- sleep\n",
    "- time since last checkup\n",
    "- education\n",
    "- health care coverage\n",
    "- mental Health\n"
   ]
  },
  {
   "cell_type": "markdown",
   "metadata": {},
   "source": [
    "# Variable meaning\n",
    "\n",
    "### High Blood Pressure\n",
    "- Adults who have been told they have high blood pressure by a doctor, nurse, or other health professional --> _RFHYPE5\n",
    "\n",
    "### High Cholesterol\n",
    "- Have you EVER been told by a doctor, nurse or other health professional that your blood cholesterol is high? --> TOLDHI2\n",
    "- Cholesterol check within past five years --> _CHOLCHK\n",
    "\n",
    "### BMI\n",
    "- Body Mass Index (BMI) --> _BMI5\n",
    "\n",
    "### Smoking\n",
    "- Have you smoked at least 100 cigarettes in your entire life? [Note: 5 packs = 100 cigarettes] --> SMOKE100\n",
    "\n",
    "### Other Chronic Health Conditions\n",
    "- (Ever told) you had a stroke. --> CVDSTRK3\n",
    "- Respondents that have ever reported having coronary heart disease (CHD) or myocardial infarction (MI) --> _MICHD\n",
    "\n",
    "### Physical Activity\n",
    "- Adults who reported doing physical activity or exercise during the past 30 days other than their regular job --> _TOTINDA\n",
    "\n",
    "### Diet\n",
    "- Consume Fruit 1 or more times per day --> _FRTLT1\n",
    "- Consume Vegetables 1 or more times per day --> _VEGLT1\n",
    "\n",
    "### Alcohol Consumption\n",
    "- Heavy drinkers (adult men having more than 14 drinks per week and adult women having more than 7 drinks per week) --> _RFDRHV5\n",
    "\n",
    "### Health Care\n",
    "- Do you have any kind of health care coverage, including health insurance, prepaid plans such as HMOs, or government plans such as Medicare, or Indian Health Service? --> HLTHPLN1\n",
    "- Was there a time in the past 12 months when you needed to see a doctor but could not because of cost? --> MEDCOST\n",
    "\n",
    "### Health General and Mental Health\n",
    "- Would you say that in general your health is: --> GENHLTH\n",
    "- Now thinking about your mental health, which includes stress, depression, and problems with emotions, for how many days during the past 30 days was your mental health not good? --> MENTHLTH\n",
    "- Now thinking about your physical health, which includes physical illness and injury, for how many days during the past 30 days was your physical health not good? --> PHYSHLTH\n",
    "- Do you have serious difficulty walking or climbing stairs? --> DIFFWALK\n",
    "\n",
    "### Demographics\n",
    "- Indicate sex of respondent. --> SEX\n",
    "- Fourteen-level age category --> _AGEG5YR\n",
    "- What is the highest grade or year of school you completed? --> EDUCA\n",
    "- Is your annual household income from all sources: (If respondent refuses at any income level, code \"Refused.\") --> INCOME2\n"
   ]
  },
  {
   "cell_type": "markdown",
   "metadata": {},
   "source": [
    "# Value meaning\n",
    "https://www.cdc.gov/brfss/annual_data/2015/pdf/codebook15_llcp.pdf"
   ]
  },
  {
   "cell_type": "code",
   "execution_count": 3,
   "metadata": {},
   "outputs": [],
   "source": [
    "# Select only the columns that correspond to possible risk factors for diabetes\n",
    "columns = [\n",
    "    'DIABETE3',\n",
    "    '_RFHYPE5',  \n",
    "    'TOLDHI2', \n",
    "    '_CHOLCHK', \n",
    "    '_BMI5', \n",
    "    'SMOKE100', \n",
    "    'CVDSTRK3', \n",
    "    '_MICHD', \n",
    "    '_TOTINDA', \n",
    "    '_FRTLT1', \n",
    "    '_VEGLT1', \n",
    "    '_RFDRHV5', \n",
    "    'HLTHPLN1', \n",
    "    'MEDCOST', \n",
    "    'GENHLTH', \n",
    "    'MENTHLTH', \n",
    "    'PHYSHLTH', \n",
    "    'DIFFWALK', \n",
    "    'SEX', \n",
    "    '_AGEG5YR', \n",
    "    'EDUCA', \n",
    "    'INCOME2' \n",
    "]\n",
    "\n",
    "df_2015_small = df_2015[columns]"
   ]
  },
  {
   "cell_type": "code",
   "execution_count": null,
   "metadata": {},
   "outputs": [],
   "source": [
    "# Get the shape of the dataset\n",
    "print(f\"Number of columns: {df_2015_small.shape[1]}\")\n",
    "print(f\"Number of rows: {df_2015_small.shape[0]}\")"
   ]
  },
  {
   "cell_type": "code",
   "execution_count": null,
   "metadata": {},
   "outputs": [],
   "source": [
    "# Describe the dataset\n",
    "df_2015_small.describe()"
   ]
  },
  {
   "cell_type": "code",
   "execution_count": null,
   "metadata": {},
   "outputs": [],
   "source": [
    "# Rename columns to be more descriptive\n",
    "df_2015_small.rename(columns={\n",
    "    'DIABETE3': 'diabetes',\n",
    "    '_RFHYPE5': 'high_blood_pressure',\n",
    "    'TOLDHI2': 'high_cholesterol',\n",
    "    '_CHOLCHK': 'checked_cholesterol',\n",
    "    '_BMI5': 'bmi',\n",
    "    'SMOKE100': 'smoker',\n",
    "    'CVDSTRK3': 'stroke',\n",
    "    '_MICHD': 'heart_disease',\n",
    "    '_TOTINDA': 'physical_activity',\n",
    "    '_FRTLT1': 'fruit_consumption',\n",
    "    '_VEGLT1': 'vegetable_consumption',\n",
    "    '_RFDRHV5': 'drinking',\n",
    "    'HLTHPLN1': 'healthcare_coverage',\n",
    "    'MEDCOST': 'medical_cost',\n",
    "    'GENHLTH': 'general_health',\n",
    "    'MENTHLTH': 'mental_health',\n",
    "    'PHYSHLTH': 'physical_health',\n",
    "    'DIFFWALK': 'walking_difficulty',\n",
    "    'SEX': 'sex',\n",
    "    '_AGEG5YR': 'age',\n",
    "    'EDUCA': 'education',\n",
    "    'INCOME2': 'income'\n",
    "}, inplace=True)\n",
    "\n",
    "df_2015.rename(columns={\n",
    "    'DIABETE3': 'diabetes',\n",
    "    '_RFHYPE5': 'high_blood_pressure',\n",
    "    'TOLDHI2': 'high_cholesterol',\n",
    "    '_CHOLCHK': 'checked_cholesterol',\n",
    "    '_BMI5': 'bmi',\n",
    "    'SMOKE100': 'smoker',\n",
    "    'CVDSTRK3': 'stroke',\n",
    "    '_MICHD': 'heart_disease',\n",
    "    '_TOTINDA': 'physical_activity',\n",
    "    '_FRTLT1': 'fruit_consumption',\n",
    "    '_VEGLT1': 'vegetable_consumption',\n",
    "    '_RFDRHV5': 'drinking',\n",
    "    'HLTHPLN1': 'healthcare_coverage',\n",
    "    'MEDCOST': 'medical_cost',\n",
    "    'GENHLTH': 'general_health',\n",
    "    'MENTHLTH': 'mental_health',\n",
    "    'PHYSHLTH': 'physical_health',\n",
    "    'DIFFWALK': 'walking_difficulty',\n",
    "    'SEX': 'sex',\n",
    "    '_AGEG5YR': 'age',\n",
    "    'EDUCA': 'education',\n",
    "    'INCOME2': 'income'\n",
    "}, inplace=True)\n"
   ]
  },
  {
   "cell_type": "code",
   "execution_count": null,
   "metadata": {},
   "outputs": [],
   "source": [
    "# gets percentage of missing values per column\n",
    "percent_missing = (df_2015_small.isnull().sum() / df_2015_small.isnull().count()).sort_values(ascending=False)\n",
    "print(percent_missing)"
   ]
  },
  {
   "cell_type": "code",
   "execution_count": null,
   "metadata": {},
   "outputs": [],
   "source": [
    "# Get unique values for each column\n",
    "for column in df_2015_small.columns:\n",
    "    print(f\"Unique values in {column}: {sorted(df_2015_small[column].unique())}\")"
   ]
  },
  {
   "cell_type": "markdown",
   "metadata": {},
   "source": [
    "# Data Missingness"
   ]
  },
  {
   "cell_type": "markdown",
   "metadata": {},
   "source": [
    "Check for each column all rows with missing data"
   ]
  },
  {
   "cell_type": "code",
   "execution_count": null,
   "metadata": {},
   "outputs": [],
   "source": [
    "# count of missing values in each column in ascending order\n",
    "missing_values = df_2015_small.isnull().sum().sort_values(ascending=False)\n",
    "print(missing_values)\n"
   ]
  },
  {
   "cell_type": "markdown",
   "metadata": {},
   "source": [
    "### Variable: Medical Cost\n",
    "Missing means: Not asked or Missing <br>\n",
    "Frequency: 1\n",
    "\n",
    "Verdict: MCAR <br>\n",
    "Action: Remove row <br>\n",
    "Explanation: Interviewing problem. Low impact on overall conclusion\n"
   ]
  },
  {
   "cell_type": "markdown",
   "metadata": {},
   "source": [
    "### Variable: Physical Health\n",
    "Missing means: Not asked or Missing<br>\n",
    "Frequency: 1\n",
    "\n",
    "Verdict: MCAR<br>\n",
    "Action: Remove row<br>\n",
    "Explanation: Interviewing problem. Low impact on overall conclusion\n"
   ]
  },
  {
   "cell_type": "markdown",
   "metadata": {},
   "source": [
    "### Variable: General Health\n",
    "Missing means: Not asked or Missing<br>\n",
    "Frequency: 2\n",
    "\n",
    "Verdict: MCAR<br>\n",
    "Action: Remove rows<br>\n",
    "Explanation: Interviewing problem. Low impact on overall conclusion\n"
   ]
  },
  {
   "cell_type": "markdown",
   "metadata": {},
   "source": [
    "### Variable: Diabetes\n",
    "Missing means: Not asked or Missing<br>\n",
    "Frequency: 7\n",
    "\n",
    "Verdict: MCAR<br>\n",
    "Action: Remove rows<br>\n",
    "Explanation: Interviewing problem. Low impact on overall conclusion\n"
   ]
  },
  {
   "cell_type": "markdown",
   "metadata": {},
   "source": [
    "### Variable: High Cholesterol"
   ]
  },
  {
   "cell_type": "code",
   "execution_count": null,
   "metadata": {},
   "outputs": [],
   "source": [
    "# get column 'BLOODCHO' for all rows where 'TOLDHI2' is missing\n",
    "df_2015[df_2015['high_cholesterol'].isnull()]['BLOODCHO'].value_counts()"
   ]
  },
  {
   "cell_type": "markdown",
   "metadata": {},
   "source": [
    "Missing means: Not asked or Missing<br>\n",
    "Frequency: 59154\n",
    "\n",
    "Verdict: MAR<br>\n",
    "Action: Add 'Not Applicable' category <br>\n",
    "Explanation: Missingness depends on the 'BLOODCHO' response. If 2:No, 7:Don't know or 9:Refused when asked if the respondant has ever had their blood cholesterol tested, the 'high cholesterol' value would be left blank."
   ]
  },
  {
   "cell_type": "markdown",
   "metadata": {},
   "source": [
    "### BMI"
   ]
  },
  {
   "cell_type": "code",
   "execution_count": null,
   "metadata": {},
   "outputs": [],
   "source": [
    "bmi_var = df_2015[df_2015['bmi'].isnull()][['WTKG3','HTM4']]\n",
    "\n",
    "# check how many rows have at least one missing value\n",
    "print(bmi_var.isnull().any(axis=1).sum())\n",
    "\n",
    "# check number of rows\n",
    "print(bmi_var.shape[0])\n",
    "\n",
    "# remove rows with missing values\n",
    "bmi_var = bmi_var.dropna()\n",
    "\n",
    "# check number of rows\n",
    "print(bmi_var.shape[0])\n",
    "\n",
    "print(bmi_var)\n"
   ]
  },
  {
   "cell_type": "code",
   "execution_count": null,
   "metadata": {},
   "outputs": [],
   "source": [
    "import matplotlib.pyplot as plt\n",
    "\n",
    "# Calculate the amount of missing data per column\n",
    "missing_data = df_2015.isnull().sum()\n",
    "\n",
    "# Remove columns with values higher than 100000\n",
    "missing_data = missing_data[missing_data < 50000]\n",
    "\n",
    "# Remove all columns further than the 271th column\n",
    "missing_data = missing_data[:65]\n",
    "\n",
    "# Create a line chart\n",
    "plt.plot(range(len(missing_data)), missing_data)\n",
    "\n",
    "# Set the y-axis label\n",
    "plt.ylabel('Amount of Missing Data')\n",
    "\n",
    "# Set the chart title\n",
    "plt.title('Missing Data in df_2015')\n",
    "\n",
    "# Display the chart\n",
    "plt.show()\n"
   ]
  },
  {
   "cell_type": "markdown",
   "metadata": {},
   "source": [
    "### Smoker\n",
    "\n",
    "Missing means: Not asked or Missing<br>\n",
    "Frequency: 14255\n",
    "\n",
    "Verdict: MNAR <br>\n",
    "Action: TBD <br>\n",
    "Explanation: I don't have a certain explanation for the amount of missing data for smokers, but do have a possible hypothesis. No reason was given in the codebook or paper about why so many datapoints were left blank. However, since the beginning of the 'demographics' section of the survey, the amount of missing data seems to steadily increase, barring any follow-up questions. This seems to indicate that more and more people stop the survey halfway through, since it is possible to quit at any time. A survey is only considered valid if at least 50% of the questions were answered. That explains why the missingness only starts at the 'demographics' section, which is section 7. This is about halfway through the survey."
   ]
  },
  {
   "cell_type": "markdown",
   "metadata": {},
   "source": [
    "### Walking difficulty\n",
    "\n",
    "Missing means: Not asked or Missing<br>\n",
    "Frequency: 12334\n",
    "\n",
    "Verdict: MNAR<br>\n",
    "Action: TBD <br>\n",
    "Explanation: I don't have a certain explanation for the amount of missing data for walking difficulty, but do have a possible hypothesis. No reason was given in the codebook or paper about why so many datapoints were left blank. However, since the beginning of the 'demographics' section of the survey, the amount of missing data seems to steadily increase, barring any follow-up questions. This seems to indicate that more and more people stop the survey halfway through, since it is possible to quit at any time. A survey is only considered valid if at least 50% of the questions were answered. That explains why the missingness only starts at the 'demographics' section, which is section 7. This is about halfway through the survey."
   ]
  },
  {
   "cell_type": "markdown",
   "metadata": {},
   "source": [
    "### Heart Disease"
   ]
  },
  {
   "cell_type": "code",
   "execution_count": null,
   "metadata": {},
   "outputs": [],
   "source": [
    "heart_disease_var = df_2015[df_2015['heart_disease'].isnull()][['CVDINFR4','CVDCRHD4']]\n",
    "\n",
    "# check how many rows have at least a value of 7 or 9\n",
    "heart_disease_var_inv = heart_disease_var.isin([7,9]).any(axis=1).sum()\n",
    "print(heart_disease_var_inv)\n",
    "\n",
    "# check number of rows\n",
    "print(heart_disease_var.shape[0])\n",
    "\n",
    "# remove rows containing 7, 9\n",
    "heart_disease_var = heart_disease_var[~heart_disease_var.isin([7,9]).any(axis=1)]\n",
    "\n",
    "heart_disease_var"
   ]
  },
  {
   "cell_type": "markdown",
   "metadata": {},
   "source": [
    "Missing means: Not asked or Missing<br>\n",
    "Frequency: 3942\n",
    "\n",
    "Verdict: MAR<br>\n",
    "Action: TBD <br>\n",
    "Explanation: "
   ]
  },
  {
   "cell_type": "markdown",
   "metadata": {},
   "source": [
    "### Income\n",
    "\n",
    "Missing means: Not asked or Missing<br>\n",
    "Frequency: 3301\n",
    "\n",
    "Verdict: MNAR<br>\n",
    "Action: TBD <br>\n",
    "Explanation: I don't have a certain explanation for the amount of missing data for income, but do have a possible hypothesis. No reason was given in the codebook or paper about why so many datapoints were left blank. However, since the beginning of the 'demographics' section of the survey, the amount of missing data seems to steadily increase, barring any follow-up questions. This seems to indicate that more and more people stop the survey halfway through, since it is possible to quit at any time. A survey is only considered valid if at least 50% of the questions were answered. That explains why the missingness only starts at the 'demographics' section, which is section 7. This is about halfway through the survey."
   ]
  },
  {
   "cell_type": "markdown",
   "metadata": {},
   "source": [
    "## Summary\n",
    "high_cholesterol    MAR<br>\n",
    "bmi                 94% MAR 6% MNAR<br>\n",
    "smoker              MNAR<br>\n",
    "walking_difficulty  MNAR<br>\n",
    "heart_disease       MAR<br>\n",
    "income              MNAR<br>\n",
    "diabetes            MCAR<br>\n",
    "general_health      MCAR<br>\n",
    "physical_health     MCAR<br>\n",
    "medical_cost        MCAR<br>"
   ]
  },
  {
   "cell_type": "markdown",
   "metadata": {},
   "source": [
    "# Data Cleaning"
   ]
  },
  {
   "cell_type": "markdown",
   "metadata": {},
   "source": [
    "### Deal with MCAR"
   ]
  },
  {
   "cell_type": "code",
   "execution_count": 14,
   "metadata": {},
   "outputs": [],
   "source": [
    "# remove rows with missing values in columns 'diatbetes', 'general_health', 'mental_health', 'physical_health'\n",
    "subset=['diabetes', 'general_health', 'mental_health', 'physical_health', 'medical_cost']\n",
    "df_2015 = df_2015.dropna(subset=subset)"
   ]
  },
  {
   "cell_type": "markdown",
   "metadata": {},
   "source": [
    "### Deal with MAR"
   ]
  },
  {
   "cell_type": "markdown",
   "metadata": {},
   "source": [
    "#### Variable: High Cholesterol"
   ]
  },
  {
   "cell_type": "code",
   "execution_count": 15,
   "metadata": {},
   "outputs": [],
   "source": [
    "# Converts the 'high_cholesterol' column to a categorical type and then updates its values based on specific conditions related to the 'BLOODCHO' column. \n",
    "# If 'BLOODCHO' is 2 or 7 and 'high_cholesterol' is NaN, it sets 'high_cholesterol' to 7. \n",
    "# If 'BLOODCHO' is 9 and 'high_cholesterol' is NaN, it sets 'high_cholesterol' to 9. \n",
    "# If none of the conditions are met, it retains the existing values in 'high_cholesterol'.\n",
    "\n",
    "import numpy as np\n",
    "\n",
    "df_2015['high_cholesterol'] = df_2015['high_cholesterol'].astype('category')\n",
    "\n",
    "conditions = [\n",
    "    df_2015['BLOODCHO'].isin([2, 7]) & df_2015['high_cholesterol'].isna(),\n",
    "    df_2015['BLOODCHO'].isin([9]) & df_2015['high_cholesterol'].isna()\n",
    "]\n",
    "\n",
    "choices = [7, 9]\n",
    "\n",
    "df_2015['high_cholesterol'] = np.select(conditions, choices, default=df_2015['high_cholesterol'])\n"
   ]
  },
  {
   "cell_type": "markdown",
   "metadata": {},
   "source": [
    "#### Variable: Heart Disease"
   ]
  },
  {
   "cell_type": "markdown",
   "metadata": {},
   "source": [
    "[Values: 1343] If (CVDINFR4, CVDCRHD4) = (7, 2): heart_disease = 7 <br>\n",
    "[Values: 334] If (CVDINFR4, CVDCRHD4) = (7, 7): heart_disease = 7 <br>\n",
    "[Values: 7] If (CVDINFR4, CVDCRHD4) = (7, 9): heart_disease = 7 <br>\n",
    "\n",
    "[Values: 60] If (CVDINFR4, CVDCRHD4) = (9, 2): heart_disease = 9 <br>\n",
    "[Values: 3] If (CVDINFR4, CVDCRHD4) = (9, 7): heart_disease = 7 <br>\n",
    "[Values: 121] If (CVDINFR4, CVDCRHD4) = (9, 9): heart_disease = 9 <br>\n",
    "\n",
    "[Values: 2000] If (CVDINFR4, CVDCRHD4) = (2, 7): heart_disease = 7 <br>\n",
    "[Values: 73] If (CVDINFR4, CVDCRHD4) = (2, 9): heart_disease = 9 <br>\n",
    "[Values: 1] If (CVDINFR4, CVDCRHD4) = (2, NaN): Remove row (MCAR)"
   ]
  },
  {
   "cell_type": "code",
   "execution_count": 16,
   "metadata": {},
   "outputs": [],
   "source": [
    "# if 'CVDINFR4' is 7 set 'heart_disease' to 7\n",
    "df_2015.loc[df_2015['CVDINFR4'] == 7, 'heart_disease'] = 7\n",
    "\n",
    "# if 'CVDCRHD4' is 7 set 'heart_disease' to 7\n",
    "df_2015.loc[df_2015['CVDCRHD4'] == 7, 'heart_disease'] = 7\n",
    "\n",
    "# if 'CVDINFR4' is 9 AND 'CVDCRHD4' is 2 or 9 set 'heart_disease' to 9\n",
    "df_2015.loc[(df_2015['CVDINFR4'] == 9) & (df_2015['CVDCRHD4'].isin([2, 9])), 'heart_disease'] = 9\n",
    "\n",
    "# if 'CVDINFR4' is 2 AND 'CVDCRHD4' is 9 set 'heart_disease' to 9\n",
    "df_2015.loc[(df_2015['CVDINFR4'] == 2) & (df_2015['CVDCRHD4'] == 9), 'heart_disease'] = 9\n",
    "\n",
    "# if 'CVDINFR4' OR 'CVDCRHD4' is missing remove the row\n",
    "subset = ['CVDINFR4', 'CVDCRHD4']\n",
    "df_2015 = df_2015.dropna(subset=subset)"
   ]
  },
  {
   "cell_type": "markdown",
   "metadata": {},
   "source": [
    "#### Variable: BMI\n",
    "Only MAR and MCAR values"
   ]
  },
  {
   "cell_type": "markdown",
   "metadata": {},
   "source": [
    "[Values: 7694] if (WEIGHT2, HEIGHT3) = (7, n): bmi = 7 <br>\n",
    "[Values: 17904] if (WEIGHT2, HEIGHT3) = (9, n): bmi = 9 <br>\n",
    "[Values: 3776] if (WEIGHT2, HEIGHT3) = (n, 7): bmi = 7 <br>\n",
    "[Values: 5732] if (WEIGHT2, HEIGHT3) = (n, 9): bmi = 9 <br>\n",
    "[Values: 5314] if (WEIGHT2, HEIGHT3) = (NaN, NaN): MNAR <br>\n",
    "[Values: 316] if (WEIGHT2, HEIGHT3) = (NaN, n) OR (n, NaN): MNAR <br>\n",
    "[Values: 2311] if (WEIGHT2, HEIGHT3) = (n, n) AND BMI = NaN: Calculate BMI and fill in <br>\n"
   ]
  },
  {
   "cell_type": "code",
   "execution_count": 17,
   "metadata": {},
   "outputs": [],
   "source": [
    "# set 'bmi' to 77777 if WEIGHT2 or HEIGHT3 is 7777\n",
    "df_2015.loc[df_2015['WEIGHT2'] == 7777, 'bmi'] = 77777\n",
    "df_2015.loc[df_2015['HEIGHT3'] == 7777, 'bmi'] = 77777\n",
    "\n",
    "# set 'bmi' to 99999 if WEIGHT2 or HEIGHT3 is 9999\n",
    "df_2015.loc[df_2015['WEIGHT2'] == 9999, 'bmi'] = 99999\n",
    "df_2015.loc[df_2015['HEIGHT3'] == 9999, 'bmi'] = 99999\n",
    "\n",
    "# loop over all rows where 'bmi' is missing and 'WEIGHT2' and 'HEIGHT3' are not missing\n",
    "bmi_calculatable = df_2015[df_2015['bmi'].isna() & ~(df_2015['WEIGHT2'].isna()) & ~(df_2015['HEIGHT3'].isna())]\n",
    "\n",
    "for index, row in bmi_calculatable.iterrows():\n",
    "    if (~(pd.isna(row['WTKG3'])) & ~(pd.isna(row['HTM4']))):\n",
    "        df_2015.at[index, 'bmi'] = (row['WTKG3'] / 100) / ((row['HTM4'] / 100) * (row['HTM4'] / 100))\n",
    "\n",
    "# remove rows with 'bmi' equal to NaN and a value for 'weight2' and height3\n",
    "subset = df_2015[df_2015['bmi'].isna() & ~(df_2015['WEIGHT2'].isna()) & ~(df_2015['HEIGHT3'].isna())].index\n",
    "df_2015 = df_2015.drop(subset)"
   ]
  },
  {
   "cell_type": "code",
   "execution_count": null,
   "metadata": {},
   "outputs": [],
   "source": [
    "# count of missing values in each column in ascending order\n",
    "missing_values = df_2015.isnull().sum().sort_values(ascending=False)\n",
    "print(missing_values)"
   ]
  },
  {
   "cell_type": "code",
   "execution_count": null,
   "metadata": {},
   "outputs": [],
   "source": [
    "small_columns = [\n",
    "'diabetes',\n",
    "'high_blood_pressure',\n",
    "'high_cholesterol',\n",
    "'checked_cholesterol',\n",
    "'bmi',\n",
    "'smoker',\n",
    "'stroke',\n",
    "'heart_disease',\n",
    "'physical_activity',\n",
    "'fruit_consumption',\n",
    "'vegetable_consumption',\n",
    "'drinking',\n",
    "'healthcare_coverage',\n",
    "'medical_cost',\n",
    "'general_health',\n",
    "'mental_health',\n",
    "'physical_health',\n",
    "'walking_difficulty',\n",
    "'sex',\n",
    "'age',\n",
    "'education',\n",
    "'income'\n",
    "]\n",
    "\n",
    "df_2015_small_v2 = df_2015[small_columns]\n",
    "\n",
    "df_2015_small_v2.describe()\n",
    "\n",
    "#count missing values\n",
    "missing_values = \n",
    "print(missing_values)"
   ]
  },
  {
   "cell_type": "code",
   "execution_count": null,
   "metadata": {},
   "outputs": [],
   "source": [
    "# count missing values\n",
    "print(df_2015_small_v2.isnull().sum().sort_values(ascending=False).sum())\n",
    "print(df_2015_copy[columns].isnull().sum().sort_values(ascending=False).sum())"
   ]
  },
  {
   "cell_type": "markdown",
   "metadata": {},
   "source": [
    "### Deal with MNAR"
   ]
  },
  {
   "cell_type": "code",
   "execution_count": 49,
   "metadata": {},
   "outputs": [],
   "source": [
    "# remove all rows with missing values\n",
    "df_2015_small_v2 = df_2015_small_v2.dropna()"
   ]
  },
  {
   "cell_type": "code",
   "execution_count": null,
   "metadata": {},
   "outputs": [],
   "source": [
    "# check missing values for cleaned dataset for each column\n",
    "print(df_2015_small_v2.isnull().sum().sort_values(ascending=False))\n",
    "\n",
    "# check shape\n",
    "print(f\"cleaned shape:\", df_2015_small_v2.shape)\n",
    "\n",
    "#original shape\n",
    "print(f\"original shape:\", df_2015_copy.shape)\n",
    "\n",
    "# row reduction percentage round to 2 decimal places\n",
    "row_reduction = round((1 - df_2015_small_v2.shape[0] / df_2015_copy.shape[0]) * 100, 2)\n",
    "print(f\"row reduction: {row_reduction}%\")"
   ]
  },
  {
   "cell_type": "markdown",
   "metadata": {},
   "source": [
    "# Export dataset"
   ]
  },
  {
   "cell_type": "code",
   "execution_count": null,
   "metadata": {},
   "outputs": [],
   "source": [
    "# write cleaned dataset to csv\n",
    "df_2015_small_v2.to_csv(dataset_path + '2015_cleaned.csv', index=False)"
   ]
  }
 ],
 "metadata": {
  "kernelspec": {
   "display_name": "Python 3",
   "language": "python",
   "name": "python3"
  },
  "language_info": {
   "codemirror_mode": {
    "name": "ipython",
    "version": 3
   },
   "file_extension": ".py",
   "mimetype": "text/x-python",
   "name": "python",
   "nbconvert_exporter": "python",
   "pygments_lexer": "ipython3",
   "version": "3.11.9"
  }
 },
 "nbformat": 4,
 "nbformat_minor": 2
}
